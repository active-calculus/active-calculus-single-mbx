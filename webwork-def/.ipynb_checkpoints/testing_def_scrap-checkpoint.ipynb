{
 "cells": [
  {
   "cell_type": "code",
   "execution_count": 1,
   "metadata": {},
   "outputs": [
    {
     "name": "stdout",
     "output_type": "stream",
     "text": [
      "['ez-0-0.xml', 'ez-1-1.xml', 'ez-1-2.xml', 'ez-1-3.xml', 'ez-1-4.xml', 'ez-1-5.xml', 'ez-1-6.xml', 'ez-1-7.xml', 'ez-1-8.xml', 'ez-2-1.xml', 'ez-2-2.xml', 'ez-2-3.xml', 'ez-2-4.xml', 'ez-2-5.xml', 'ez-2-6.xml', 'ez-2-7.xml', 'ez-2-8.xml', 'ez-3-1.xml', 'ez-3-2.xml', 'ez-3-3.xml', 'ez-3-4.xml', 'ez-3-5.xml', 'ez-4-1.xml', 'ez-4-2.xml', 'ez-4-3.xml', 'ez-4-4.xml', 'ez-5-1.xml', 'ez-5-2.xml', 'ez-5-3.xml', 'ez-5-4.xml', 'ez-5-5.xml', 'ez-5-6.xml', 'ez-6-1.xml', 'ez-6-2.xml', 'ez-6-3.xml', 'ez-6-4.xml', 'ez-6-5.xml', 'ez-7-1.xml', 'ez-7-2.xml', 'ez-7-3.xml', 'ez-7-4.xml', 'ez-7-5.xml', 'ez-7-6.xml', 'ez-8-1.xml', 'ez-8-2.xml', 'ez-8-3.xml', 'ez-8-4.xml', 'ez-8-5.xml', 'ez-8-6.xml']\n"
     ]
    }
   ],
   "source": [
    "from os import listdir\n",
    "from os.path import isfile, join\n",
    "\n",
    "ez_path = \"../src/exercises\"\n",
    "files = [f for f in listdir(ez_path) if isfile(join(ez_path, f))]\n",
    "files.sort()\n",
    "print(files)"
   ]
  },
  {
   "cell_type": "code",
   "execution_count": 2,
   "metadata": {},
   "outputs": [
    {
     "data": {
      "text/plain": [
       "'set-1-5.def'"
      ]
     },
     "execution_count": 2,
     "metadata": {},
     "output_type": "execute_result"
    }
   ],
   "source": [
    "set_file = files[5].replace('ez', 'set')\n",
    "set_file = set_file.replace('.xml', '.def')\n",
    "set_file"
   ]
  },
  {
   "cell_type": "code",
   "execution_count": 3,
   "metadata": {},
   "outputs": [],
   "source": [
    "from bs4 import BeautifulSoup"
   ]
  },
  {
   "cell_type": "code",
   "execution_count": 4,
   "metadata": {},
   "outputs": [],
   "source": [
    "f = open(join(ez_path, files[5]),'r')"
   ]
  },
  {
   "cell_type": "code",
   "execution_count": 5,
   "metadata": {},
   "outputs": [],
   "source": [
    "contents = f.read()\n",
    "soup = BeautifulSoup(contents, 'html.parser')"
   ]
  },
  {
   "cell_type": "code",
   "execution_count": 8,
   "metadata": {},
   "outputs": [],
   "source": [
    "all = soup.findAll('webwork')"
   ]
  },
  {
   "cell_type": "code",
   "execution_count": 22,
   "metadata": {},
   "outputs": [
    {
     "data": {
      "text/plain": [
       "[<webwork source=\"Library/Michigan/Chap2Sec4/Q01.pg\"></webwork>,\n",
       " <webwork source=\"Library/Michigan/Chap2Sec4/Q03.pg\"></webwork>,\n",
       " <webwork source=\"Library/Michigan/Chap2Sec4/Q11.pg\"></webwork>,\n",
       " <webwork source=\"Library/UVA-Stew5e/setUVA-Stew5e-C02S07-TansVelsRates/2-7-20.pg\"></webwork>]"
      ]
     },
     "execution_count": 22,
     "metadata": {},
     "output_type": "execute_result"
    }
   ],
   "source": [
    "all"
   ]
  },
  {
   "cell_type": "code",
   "execution_count": 16,
   "metadata": {},
   "outputs": [],
   "source": [
    "preamble = \"\"\"# we include open/close/etc dates because they seem to be required\n",
    "openDate = 11/7/30 at 8:00 AM\n",
    "dueDate = 11/7/30 at 1:00 PM\n",
    "answerDate = 11/7/30 at 6:00 PM\n",
    "#\n",
    "problemList=\"\"\""
   ]
  },
  {
   "cell_type": "code",
   "execution_count": 17,
   "metadata": {},
   "outputs": [
    {
     "name": "stdout",
     "output_type": "stream",
     "text": [
      "# we include open/close/etc dates because they seem to be required\n",
      "openDate = 11/7/30 at 8:00 AM\n",
      "dueDate = 11/7/30 at 1:00 PM\n",
      "answerDate = 11/7/30 at 6:00 PM\n",
      "#\n",
      "problemList=\n"
     ]
    }
   ],
   "source": [
    "print(preamble)"
   ]
  },
  {
   "cell_type": "code",
   "execution_count": 18,
   "metadata": {},
   "outputs": [],
   "source": [
    "f.close()"
   ]
  },
  {
   "cell_type": "code",
   "execution_count": 21,
   "metadata": {},
   "outputs": [],
   "source": [
    "f=open('setTest.def', 'a')\n",
    "f.write(preamble+'\\n')\n",
    "f.close()"
   ]
  },
  {
   "cell_type": "code",
   "execution_count": 23,
   "metadata": {},
   "outputs": [],
   "source": [
    "f=open('setTest.def', 'a')\n",
    "for path in all:\n",
    "    f.write(path['source']+'\\n')\n",
    "f.close()"
   ]
  },
  {
   "cell_type": "markdown",
   "metadata": {},
   "source": [
    "# Restart Kernel for this part"
   ]
  },
  {
   "cell_type": "code",
   "execution_count": 4,
   "metadata": {},
   "outputs": [
    {
     "name": "stdout",
     "output_type": "stream",
     "text": [
      "ez-8-6.xml set-8-6.def\n"
     ]
    }
   ],
   "source": [
    "from os import listdir\n",
    "from os.path import isfile, join\n",
    "from bs4 import BeautifulSoup\n",
    "\n",
    "ez_path = \"../src/exercises\"\n",
    "files = [f for f in listdir(ez_path) if isfile(join(ez_path, f))]\n",
    "files.sort()\n",
    "\n",
    "set_files = []\n",
    "for file in files:\n",
    "    set_file = file.replace('ez', 'set')\n",
    "    set_file = set_file.replace('.xml', '.def')\n",
    "    set_files.append(set_file)\n",
    "\n",
    "num_sections = len(files)\n",
    "\n",
    "preamble = \"\"\"# we include open/close/etc dates because they seem to be required\n",
    "openDate = 11/7/30 at 8:00 AM\n",
    "dueDate = 11/7/30 at 1:00 PM\n",
    "answerDate = 11/7/30 at 6:00 PM\n",
    "#\n",
    "problemList=\"\"\"\n",
    "\n",
    "for num in range(num_sections):\n",
    "    f = open(join(ez_path, files[num]),'r')\n",
    "    file_contents = f.read()\n",
    "    soup = BeautifulSoup(file_contents, 'html.parser')\n",
    "    \n",
    "    ww_paths = soup.findAll('webwork')\n",
    "#     print(ww_paths)\n",
    "    g = open(set_files[num], 'a')\n",
    "    g.write(preamble+'\\n')\n",
    "    for ww_path in ww_paths:\n",
    "        if set_files[num] != 'set-4-4.def':\n",
    "            g.write(ww_path['source']+'\\n')\n",
    "    g.close()\n",
    "    f.close() \n",
    "\n",
    "print(files[num],set_files[num])"
   ]
  },
  {
   "cell_type": "code",
   "execution_count": null,
   "metadata": {},
   "outputs": [],
   "source": []
  }
 ],
 "metadata": {
  "kernelspec": {
   "display_name": "Python 3",
   "language": "python",
   "name": "python3"
  },
  "language_info": {
   "codemirror_mode": {
    "name": "ipython",
    "version": 3
   },
   "file_extension": ".py",
   "mimetype": "text/x-python",
   "name": "python",
   "nbconvert_exporter": "python",
   "pygments_lexer": "ipython3",
   "version": "3.7.4"
  }
 },
 "nbformat": 4,
 "nbformat_minor": 4
}
